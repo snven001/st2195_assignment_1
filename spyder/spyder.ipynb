{
 "cells": [
  {
   "cell_type": "markdown",
   "id": "68037bfa",
   "metadata": {},
   "source": [
    "# ST2195 Practice Assignment 1"
   ]
  },
  {
   "cell_type": "markdown",
   "id": "4a42f64f",
   "metadata": {},
   "source": [
    "This is a Jupyter notebook consisting of the for loop which prints the integers 1-10 inclusive."
   ]
  },
  {
   "cell_type": "code",
   "execution_count": 1,
   "id": "0b34e013",
   "metadata": {},
   "outputs": [
    {
     "name": "stdout",
     "output_type": "stream",
     "text": [
      "1\n",
      "2\n",
      "3\n",
      "4\n",
      "5\n",
      "6\n",
      "7\n",
      "8\n",
      "9\n",
      "10\n"
     ]
    }
   ],
   "source": [
    "for i in range(1, 11):\n",
    "    print(i)\n"
   ]
  }
 ],
 "metadata": {
  "kernelspec": {
   "display_name": "Python 3 (ipykernel)",
   "language": "python",
   "name": "python3"
  },
  "language_info": {
   "codemirror_mode": {
    "name": "ipython",
    "version": 3
   },
   "file_extension": ".py",
   "mimetype": "text/x-python",
   "name": "python",
   "nbconvert_exporter": "python",
   "pygments_lexer": "ipython3",
   "version": "3.9.12"
  }
 },
 "nbformat": 4,
 "nbformat_minor": 5
}
